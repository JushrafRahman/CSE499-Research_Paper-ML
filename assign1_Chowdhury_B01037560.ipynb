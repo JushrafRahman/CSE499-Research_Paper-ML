{
  "nbformat": 4,
  "nbformat_minor": 0,
  "metadata": {
    "colab": {
      "provenance": [],
      "authorship_tag": "ABX9TyPM5MtMFq8t/mb1PXGVA7j4",
      "include_colab_link": true
    },
    "kernelspec": {
      "name": "python3",
      "display_name": "Python 3"
    },
    "language_info": {
      "name": "python"
    }
  },
  "cells": [
    {
      "cell_type": "markdown",
      "metadata": {
        "id": "view-in-github",
        "colab_type": "text"
      },
      "source": [
        "<a href=\"https://colab.research.google.com/github/JushrafRahman/CSE499-Research_Paper-ML/blob/main/assign1_Chowdhury_B01037560.ipynb\" target=\"_parent\"><img src=\"https://colab.research.google.com/assets/colab-badge.svg\" alt=\"Open In Colab\"/></a>"
      ]
    },
    {
      "cell_type": "markdown",
      "source": [
        "# Md Jushraf Rahman Chowdhury\n",
        "# B01037560\n",
        "# mchowdhury9@binghamton.edu"
      ],
      "metadata": {
        "id": "dxdv5OhBFfeF"
      }
    },
    {
      "cell_type": "code",
      "execution_count": 1,
      "metadata": {
        "id": "_g7gTqyoEBUZ"
      },
      "outputs": [],
      "source": [
        "import math"
      ]
    },
    {
      "cell_type": "markdown",
      "source": [
        "**1 Numerical Inversion by Binary Search [16 points]**"
      ],
      "metadata": {
        "id": "vws_J8CQGJyE"
      }
    },
    {
      "cell_type": "code",
      "source": [
        "def invert(fn, y, d=None):\n",
        "    def binarySearch(fn, y, left, right):\n",
        "        maxIterations = 1000\n",
        "\n",
        "        for _ in range(maxIterations):\n",
        "            midpoint = (left + right) / 2\n",
        "            midVal = fn(midpoint)\n",
        "\n",
        "            if math.isclose(midVal, y):\n",
        "                return midpoint\n",
        "\n",
        "            if midVal < y:\n",
        "                left = midpoint\n",
        "            else:\n",
        "                right = midpoint\n",
        "\n",
        "        return None\n",
        "\n",
        "\n",
        "    lowerLimit, upperLimit = d if d is not None else (None, None)\n",
        "    # if interval was not given we need to find it\n",
        "\n",
        "    if lowerLimit is None and upperLimit is None:\n",
        "        maxLimit = 1e6\n",
        "        originValue = fn(0)\n",
        "\n",
        "        if math.isclose(originValue, y): # if origin is the solution\n",
        "            lowerLimit, upperLimit = 0, 0\n",
        "\n",
        "        elif originValue < y: # search in positive direction\n",
        "            lowerBound = 0\n",
        "            upperBound = 1\n",
        "            while fn(upperBound) < y and upperBound < maxLimit:\n",
        "                upperBound *= 2 # we keep expanding it till it gets in our domain\n",
        "            lowerLimit = lowerBound\n",
        "            upperLimit = upperBound\n",
        "\n",
        "        else: # search in negative direction\n",
        "            lowerBound = -1\n",
        "            upperBound = 0\n",
        "            while fn(lowerBound) > y and abs(lowerBound) < maxLimit:\n",
        "                lowerBound *= 2\n",
        "            lowerLimit = lowerBound\n",
        "            upperLimit = upperBound\n",
        "\n",
        "        # if bounds are valid\n",
        "        if abs(lowerBound) >= maxLimit or abs(upperBound) >= maxLimit:\n",
        "            lowerLimit, upperLimit = None, None\n",
        "\n",
        "        if lowerLimit is None:\n",
        "            return None\n",
        "\n",
        "        # edge case: bounds get converged at origin\n",
        "        if lowerLimit == upperLimit == 0:\n",
        "            return 0\n",
        "\n",
        "    # validate the interval\n",
        "    if not (fn(lowerLimit) <= y <= fn(upperLimit)):\n",
        "        return None\n",
        "\n",
        "    res =  binarySearch(fn, y, lowerLimit, upperLimit)\n",
        "    return res\n"
      ],
      "metadata": {
        "id": "GDlFUJJjF7HH"
      },
      "execution_count": 23,
      "outputs": []
    },
    {
      "cell_type": "code",
      "source": [
        "def fn(x):\n",
        "  quadTerm = x * math.exp(x)\n",
        "  eqn = quadTerm + x\n",
        "  return eqn\n",
        "\n",
        "print(invert(fn, 2, (0, 20)))\n",
        "print(invert(fn, 1))\n",
        "print(invert(fn, -1, (-1, 0)))"
      ],
      "metadata": {
        "colab": {
          "base_uri": "https://localhost:8080/"
        },
        "id": "BQgUvUvOgcyl",
        "outputId": "7c761e7f-38a5-4ee2-d630-2e6fc35dd63a"
      },
      "execution_count": 24,
      "outputs": [
        {
          "output_type": "stream",
          "name": "stdout",
          "text": [
            "0.6748316145967692\n",
            "0.4010581374168396\n",
            "-0.6590460687875748\n"
          ]
        }
      ]
    }
  ]
}